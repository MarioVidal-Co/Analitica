{
  "nbformat": 4,
  "nbformat_minor": 0,
  "metadata": {
    "colab": {
      "provenance": [],
      "authorship_tag": "ABX9TyNBJnJ228MZynKhZEFTWMXF",
      "include_colab_link": true
    },
    "kernelspec": {
      "name": "python3",
      "display_name": "Python 3"
    },
    "language_info": {
      "name": "python"
    }
  },
  "cells": [
    {
      "cell_type": "markdown",
      "metadata": {
        "id": "view-in-github",
        "colab_type": "text"
      },
      "source": [
        "<a href=\"https://colab.research.google.com/github/MarioVidal-Co/Analitica/blob/main/Reto_1_Mario_Vidal.ipynb\" target=\"_parent\"><img src=\"https://colab.research.google.com/assets/colab-badge.svg\" alt=\"Open In Colab\"/></a>"
      ]
    },
    {
      "cell_type": "code",
      "execution_count": null,
      "metadata": {
        "id": "OeajwJl-6XIq"
      },
      "outputs": [],
      "source": [
        "import numpy as np\n",
        "import pandas as pd\n",
        "from sklearn.naive_bayes import GaussianNB\n",
        "from sklearn.metrics import confusion_matrix"
      ]
    },
    {
      "cell_type": "markdown",
      "source": [
        "1. Se cargan los datos"
      ],
      "metadata": {
        "id": "dsMUWsCv7k5d"
      }
    },
    {
      "cell_type": "code",
      "source": [
        "nxl= '/content/1. BD1_Longitudinal Survey.xlsx'\n",
        "XDB=pd.read_excel(nxl,sheet_name=0)\n",
        "XDB = XDB.dropna() # Assign the result of dropna back to the DataFrame\n",
        "XDB=XDB[['Age','Mother_Edu','Father_Edu','Height','Weight','Income','Self_Esteem','FamilySize','Urban']]\n",
        "XD=np.array(XDB[['Age','Mother_Edu','Father_Edu','Height','Weight','Income','Self_Esteem','FamilySize']])\n",
        "yd=np.array(XDB['Urban'])\n",
        "XDB=np.array(XDB)\n",
        "print(XDB)\n",
        "\n",
        "mnd=GaussianNB()\n",
        "mnd.fit(XD,yd)\n",
        "ydp=mnd.predict(XD)\n",
        "\n",
        "1-np.sum(yd)/len(yd)"
      ],
      "metadata": {
        "id": "2E2HYQLJB3xo"
      },
      "execution_count": null,
      "outputs": []
    },
    {
      "cell_type": "markdown",
      "source": [
        "2. Implementamos el Modelo"
      ],
      "metadata": {
        "id": "5Gb4PiH__BoU"
      }
    },
    {
      "cell_type": "code",
      "source": [
        "mnd=GaussianNB()\n",
        "mnd.fit(XD,yd)\n",
        "ydp=mnd.predict(XD)"
      ],
      "metadata": {
        "id": "udm2xsxr_wjG"
      },
      "execution_count": null,
      "outputs": []
    },
    {
      "cell_type": "code",
      "source": [
        "u=mnd.theta_\n",
        "sigma=np.sqrt(mnd.var_)"
      ],
      "metadata": {
        "id": "eMineH_eCoEV"
      },
      "execution_count": null,
      "outputs": []
    },
    {
      "cell_type": "code",
      "source": [
        "LI=u-sigma\n",
        "LS=u+sigma\n",
        "print(\"La media de las variables por categoría\")\n",
        "print(u)\n",
        "print(\"El limite inferior de la variación de las variables por categoría es\")\n",
        "print(LI)\n",
        "print(\"El limite superior de la variación de las variables por categoría es\")\n",
        "print(LS)"
      ],
      "metadata": {
        "colab": {
          "base_uri": "https://localhost:8080/"
        },
        "id": "RRH8SPQLDGXn",
        "outputId": "be0980a7-a413-45b6-98ea-5fd6223f4f9a"
      },
      "execution_count": null,
      "outputs": [
        {
          "output_type": "stream",
          "name": "stdout",
          "text": [
            "La media de las variables por categoría\n",
            "[[1.83810742e+01 1.07612958e+01 1.03324808e+01 6.72148338e+01\n",
            "  1.48857630e+02 3.03672506e+04 2.20272805e+01 4.74168798e+00]\n",
            " [1.83569845e+01 1.11769401e+01 1.12565410e+01 6.69031042e+01\n",
            "  1.44760976e+02 3.34278929e+04 2.26004435e+01 4.68780488e+00]]\n",
            "El limite inferior de la variación de las variables por categoría es\n",
            "[[ 1.58996876e+01  7.58892579e+00  6.46311334e+00  6.31369799e+01\n",
            "   1.18746964e+02 -1.33465823e+03  1.78344685e+01  2.16621834e+00]\n",
            " [ 1.58811112e+01  7.79013864e+00  7.15097738e+00  6.26897933e+01\n",
            "   1.14669654e+02 -2.69533531e+03  1.84154526e+01  2.24996381e+00]]\n",
            "El limite superior de la variación de las variables por categoría es\n",
            "[[2.08624608e+01 1.39336659e+01 1.42018483e+01 7.12926877e+01\n",
            "  1.78968296e+02 6.20691595e+04 2.62200925e+01 7.31715762e+00]\n",
            " [2.08328577e+01 1.45637416e+01 1.53621047e+01 7.11164151e+01\n",
            "  1.74852297e+02 6.95511211e+04 2.67854344e+01 7.12564594e+00]]\n"
          ]
        }
      ]
    },
    {
      "cell_type": "code",
      "source": [
        "cm=confusion_matrix(yd,ydp)\n",
        "print(cm)"
      ],
      "metadata": {
        "colab": {
          "base_uri": "https://localhost:8080/"
        },
        "id": "5JbiS9EnDQWC",
        "outputId": "7a47fbe9-edd0-40e6-a31a-e6700029d73a"
      },
      "execution_count": null,
      "outputs": [
        {
          "output_type": "stream",
          "name": "stdout",
          "text": [
            "[[   2 1171]\n",
            " [   4 4506]]\n"
          ]
        }
      ]
    },
    {
      "cell_type": "code",
      "source": [
        "#Intervalo de Variación de la Edad\n",
        "LI_age = LI[0, 0]\n",
        "LS_age = LS[0, 0]\n",
        "\n",
        "print(f\"El Intervalo de Variación de la Edad es: [{LI_age:.2f}, {LS_age:.2f}]\")"
      ],
      "metadata": {
        "colab": {
          "base_uri": "https://localhost:8080/"
        },
        "id": "6FQt60GpK2wc",
        "outputId": "f844f8d3-e35e-4a0b-e299-8d47b46cd421"
      },
      "execution_count": null,
      "outputs": [
        {
          "output_type": "stream",
          "name": "stdout",
          "text": [
            "El Intervalo de Variación de la Edad es: [15.90, 20.86]\n"
          ]
        }
      ]
    },
    {
      "cell_type": "code",
      "source": [
        "LI_height = LI[0, 3]\n",
        "LS_height = LS[0, 3]\n",
        "\n",
        "print(f\"El Intervalo de Variación de la Altura es: [{LI_height:.2f}, {LS_height:.2f}]\")"
      ],
      "metadata": {
        "colab": {
          "base_uri": "https://localhost:8080/"
        },
        "id": "uCICrNylLX73",
        "outputId": "539b9c4b-c626-4072-ec02-cd517ba98c68"
      },
      "execution_count": null,
      "outputs": [
        {
          "output_type": "stream",
          "name": "stdout",
          "text": [
            "El Intervalo de Variación de la Altura es: [63.14, 71.29]\n"
          ]
        }
      ]
    },
    {
      "cell_type": "code",
      "source": [
        "LI_weight = LI[0, 4]\n",
        "LS_weight = LS[0, 4]\n",
        "\n",
        "print(f\"El Intervalo de Variación del Peso de las Personas es: [{LI_weight:.2f}, {LS_weight:.2f}]\")"
      ],
      "metadata": {
        "colab": {
          "base_uri": "https://localhost:8080/"
        },
        "id": "1hjgvTYwMDWy",
        "outputId": "3954a445-8b90-4186-ddf3-204a52a400f8"
      },
      "execution_count": null,
      "outputs": [
        {
          "output_type": "stream",
          "name": "stdout",
          "text": [
            "El Intervalo de Variación del Peso de las Personas es: [118.75, 178.97]\n"
          ]
        }
      ]
    },
    {
      "cell_type": "markdown",
      "source": [
        "3. Se procede a la evaluación del Modelo"
      ],
      "metadata": {
        "id": "h_ypbgA1DlBd"
      }
    },
    {
      "cell_type": "code",
      "source": [
        "from re import S\n",
        "VN=cm[0,0] #Verdaderos Negativos\n",
        "FP=cm[0,1] #Falsos Positivos\n",
        "FN=cm[1,0] #Falsos Negativos\n",
        "VP=cm[1,1] #Verdadeos Positivos\n",
        "\n",
        "Exactitud=(VP+VN)/len(XD)\n",
        "print(\"La exactitud es:\",Exactitud) #Comportamiento general\n",
        "\n",
        "TE=(FN+FP)/len(XD)\n",
        "print(\"El Tasa de Error es:\",TE) #Porcentaje equivocaciones\n",
        "\n",
        "Sensibilidad=VP/(VP+FP)\n",
        "print(\"La sensibilidad es:\",Sensibilidad) #Como se comportó frente a los positivos\n",
        "\n",
        "Especificidad=VN/(VN+FN)\n",
        "print(\"La especificidad es:\",Especificidad) #Como se comportó frente a los negativos"
      ],
      "metadata": {
        "colab": {
          "base_uri": "https://localhost:8080/"
        },
        "id": "NJ5eB-bMDkt8",
        "outputId": "cb6aa206-a09d-4c56-fd44-89ed97df02a2"
      },
      "execution_count": null,
      "outputs": [
        {
          "output_type": "stream",
          "name": "stdout",
          "text": [
            "La exactitud es: 0.7932430054548654\n",
            "El Tasa de Error es: 0.2067569945451346\n",
            "La sensibilidad es: 0.793729082261758\n",
            "La especificidad es: 0.3333333333333333\n"
          ]
        }
      ]
    },
    {
      "cell_type": "markdown",
      "source": [
        "4. ¿Qué pasa con una sola persona?"
      ],
      "metadata": {
        "id": "7qEf-VRQEkuL"
      }
    },
    {
      "cell_type": "code",
      "source": [
        "Xun=np.array([[15,12,12,65,131,25000,26,3]])  #Misma persona del excel\n",
        "ydun=mnd.predict(Xun)\n",
        "print(ydun)"
      ],
      "metadata": {
        "colab": {
          "base_uri": "https://localhost:8080/"
        },
        "id": "t68r7aGGEkY-",
        "outputId": "cb7e1c97-81ec-4ba7-cfc1-525fc0ad7f1d"
      },
      "execution_count": null,
      "outputs": [
        {
          "output_type": "stream",
          "name": "stdout",
          "text": [
            "[1.]\n"
          ]
        }
      ]
    },
    {
      "cell_type": "markdown",
      "source": [
        "**Respuestas**\n",
        "\n",
        "**1.** El número total de la base de datos son 12678\n",
        "\n",
        "**2.** El porcentaje de datos que hacen parte de las categorías de clasificación es de 79.35% y los que no hacen parte es de 20.64%\n",
        "\n",
        "**3.** El intervalo de variación de la edad es [15.90, 20.86]\n",
        "\n",
        "**4.** El intervalo de variación de la Altura es: [63.14, 71.29]\n",
        "\n",
        "**5.** El intervalo de variación del Peso de las Personas es: [118.75, 178.97]\n",
        "\n",
        "**6.** La exactitud del modelo es de 79.32%\n",
        "\n",
        "**7.** La tasa de error es del 20.68%\n",
        "\n",
        "**8.** La sensibilidad es de 79.37%\n",
        "\n",
        "**9.** La Especificidad es de 33.33%\n",
        "\n",
        "**10.** Persona con las siguientes características indicar si vive en la ciudad o las áreas rurales 15,12,12,65,131,25000,26,3 (edad, educación de madre, educación de padre, altura, peso, ingresos, autoestima, tamaño de la familia). Esta persona vive en el Área Urbana."
      ],
      "metadata": {
        "id": "j_hL2T8pGcKK"
      }
    },
    {
      "cell_type": "markdown",
      "source": [
        "**Análisis**\n",
        "\n",
        "Con este modelo podemos concluir que, la mayoría de personas en la base de datos residen en el Área Urbana ya que notamos que el tamaño de la familia y el ingreso es mayor en esta zona.\n",
        "\n",
        "De acuerdo a las métricas este modelo obtuvo una certeza de 79.37%, lo que nos permite afirmar que este modelo si permite determinar la zona de residencia de una persona, además presenta un 79.32% de exactitud al momento de evaluar las variables, de igual forma arrojó una tasa de error del 20.67%.\n",
        "\n",
        "Por último, la persona escogida para evaluar el modelo arrojó un resultado positivo [1] para residente en área urbana y comparando este resultado con la hoja de MS Excel se pudo re-afirmar el resultado y categorizar el modelo como exitoso.\n"
      ],
      "metadata": {
        "id": "IPuQvy0vJucX"
      }
    }
  ]
}